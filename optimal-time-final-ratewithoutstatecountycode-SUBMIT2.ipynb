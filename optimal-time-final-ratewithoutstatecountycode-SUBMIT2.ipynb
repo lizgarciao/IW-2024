{
 "cells": [
  {
   "cell_type": "markdown",
   "id": "b624a800-ad2f-4dfe-8caf-0ad68dfadb14",
   "metadata": {},
   "source": [
    "# Import trained models"
   ]
  },
  {
   "cell_type": "code",
   "execution_count": 1,
   "id": "45ef0952-195e-4c40-85c8-eedde6b9a74b",
   "metadata": {},
   "outputs": [],
   "source": [
    "# import trained models\n",
    "import xgboost as xgb\n",
    "housing_model = xgb.XGBRegressor()\n",
    "model_file_path = '/scratch/network/lg6248/housing-model/xgb_housing.model_upto2021' \n",
    "housing_model.load_model(model_file_path)\n",
    "\n",
    "loan_model = xgb.XGBRegressor()\n",
    "model_file_path = '/scratch/network/lg6248/loan-model/xgb_loan.model_upto2017_withoutStateCountyCodes-SUBMIT'\n",
    "loan_model.load_model(model_file_path)"
   ]
  },
  {
   "cell_type": "code",
   "execution_count": 2,
   "id": "d1c89e30-9648-4b26-9f12-c44435df4252",
   "metadata": {},
   "outputs": [
    {
     "data": {
      "text/html": [
       "<div>\n",
       "<style scoped>\n",
       "    .dataframe tbody tr th:only-of-type {\n",
       "        vertical-align: middle;\n",
       "    }\n",
       "\n",
       "    .dataframe tbody tr th {\n",
       "        vertical-align: top;\n",
       "    }\n",
       "\n",
       "    .dataframe thead th {\n",
       "        text-align: right;\n",
       "    }\n",
       "</style>\n",
       "<table border=\"1\" class=\"dataframe\">\n",
       "  <thead>\n",
       "    <tr style=\"text-align: right;\">\n",
       "      <th></th>\n",
       "      <th>Price</th>\n",
       "      <th>State</th>\n",
       "      <th>County</th>\n",
       "      <th>Time</th>\n",
       "      <th>Bedrooms</th>\n",
       "      <th>Year</th>\n",
       "      <th>Month</th>\n",
       "    </tr>\n",
       "  </thead>\n",
       "  <tbody>\n",
       "    <tr>\n",
       "      <th>0</th>\n",
       "      <td>158704.158466</td>\n",
       "      <td>NY</td>\n",
       "      <td>Queens County</td>\n",
       "      <td>2000-01-31</td>\n",
       "      <td>1</td>\n",
       "      <td>2000</td>\n",
       "      <td>1</td>\n",
       "    </tr>\n",
       "    <tr>\n",
       "      <th>1</th>\n",
       "      <td>142042.736354</td>\n",
       "      <td>TX</td>\n",
       "      <td>Tarrant County</td>\n",
       "      <td>2000-01-31</td>\n",
       "      <td>3</td>\n",
       "      <td>2000</td>\n",
       "      <td>1</td>\n",
       "    </tr>\n",
       "    <tr>\n",
       "      <th>2</th>\n",
       "      <td>151032.122248</td>\n",
       "      <td>IA</td>\n",
       "      <td>Linn County</td>\n",
       "      <td>2000-01-31</td>\n",
       "      <td>3</td>\n",
       "      <td>2000</td>\n",
       "      <td>1</td>\n",
       "    </tr>\n",
       "    <tr>\n",
       "      <th>3</th>\n",
       "      <td>137097.551500</td>\n",
       "      <td>OH</td>\n",
       "      <td>Summit County</td>\n",
       "      <td>2000-01-31</td>\n",
       "      <td>3</td>\n",
       "      <td>2000</td>\n",
       "      <td>1</td>\n",
       "    </tr>\n",
       "    <tr>\n",
       "      <th>4</th>\n",
       "      <td>133334.515021</td>\n",
       "      <td>VT</td>\n",
       "      <td>Washington County</td>\n",
       "      <td>2000-01-31</td>\n",
       "      <td>3</td>\n",
       "      <td>2000</td>\n",
       "      <td>1</td>\n",
       "    </tr>\n",
       "    <tr>\n",
       "      <th>...</th>\n",
       "      <td>...</td>\n",
       "      <td>...</td>\n",
       "      <td>...</td>\n",
       "      <td>...</td>\n",
       "      <td>...</td>\n",
       "      <td>...</td>\n",
       "      <td>...</td>\n",
       "    </tr>\n",
       "    <tr>\n",
       "      <th>7776271</th>\n",
       "      <td>324835.405696</td>\n",
       "      <td>FL</td>\n",
       "      <td>Marion County</td>\n",
       "      <td>2022-12-31</td>\n",
       "      <td>3</td>\n",
       "      <td>2022</td>\n",
       "      <td>12</td>\n",
       "    </tr>\n",
       "    <tr>\n",
       "      <th>7776272</th>\n",
       "      <td>287029.753423</td>\n",
       "      <td>PA</td>\n",
       "      <td>Adams County</td>\n",
       "      <td>2022-12-31</td>\n",
       "      <td>3</td>\n",
       "      <td>2022</td>\n",
       "      <td>12</td>\n",
       "    </tr>\n",
       "    <tr>\n",
       "      <th>7776273</th>\n",
       "      <td>153940.746210</td>\n",
       "      <td>LA</td>\n",
       "      <td>Rapides Parish</td>\n",
       "      <td>2022-12-31</td>\n",
       "      <td>3</td>\n",
       "      <td>2022</td>\n",
       "      <td>12</td>\n",
       "    </tr>\n",
       "    <tr>\n",
       "      <th>7776274</th>\n",
       "      <td>237366.825163</td>\n",
       "      <td>SC</td>\n",
       "      <td>Orangeburg County</td>\n",
       "      <td>2022-12-31</td>\n",
       "      <td>3</td>\n",
       "      <td>2022</td>\n",
       "      <td>12</td>\n",
       "    </tr>\n",
       "    <tr>\n",
       "      <th>7776275</th>\n",
       "      <td>119779.800812</td>\n",
       "      <td>KS</td>\n",
       "      <td>Barton County</td>\n",
       "      <td>2022-12-31</td>\n",
       "      <td>4</td>\n",
       "      <td>2022</td>\n",
       "      <td>12</td>\n",
       "    </tr>\n",
       "  </tbody>\n",
       "</table>\n",
       "<p>7776276 rows × 7 columns</p>\n",
       "</div>"
      ],
      "text/plain": [
       "                 Price State             County        Time  Bedrooms  Year  \\\n",
       "0        158704.158466    NY      Queens County  2000-01-31         1  2000   \n",
       "1        142042.736354    TX     Tarrant County  2000-01-31         3  2000   \n",
       "2        151032.122248    IA        Linn County  2000-01-31         3  2000   \n",
       "3        137097.551500    OH      Summit County  2000-01-31         3  2000   \n",
       "4        133334.515021    VT  Washington County  2000-01-31         3  2000   \n",
       "...                ...   ...                ...         ...       ...   ...   \n",
       "7776271  324835.405696    FL      Marion County  2022-12-31         3  2022   \n",
       "7776272  287029.753423    PA       Adams County  2022-12-31         3  2022   \n",
       "7776273  153940.746210    LA     Rapides Parish  2022-12-31         3  2022   \n",
       "7776274  237366.825163    SC  Orangeburg County  2022-12-31         3  2022   \n",
       "7776275  119779.800812    KS      Barton County  2022-12-31         4  2022   \n",
       "\n",
       "         Month  \n",
       "0            1  \n",
       "1            1  \n",
       "2            1  \n",
       "3            1  \n",
       "4            1  \n",
       "...        ...  \n",
       "7776271     12  \n",
       "7776272     12  \n",
       "7776273     12  \n",
       "7776274     12  \n",
       "7776275     12  \n",
       "\n",
       "[7776276 rows x 7 columns]"
      ]
     },
     "execution_count": 2,
     "metadata": {},
     "output_type": "execute_result"
    }
   ],
   "source": [
    "# import dataset for housing\n",
    "import pandas as pd\n",
    "import seaborn as sns\n",
    "import matplotlib.pyplot as plt\n",
    "import math\n",
    "housing_df = pd.read_csv('/scratch/network/lg6248/housing-model/csv_housing_XGBoost_PriceLimit_2000_2022_not_normalized')\n",
    "housing_df"
   ]
  },
  {
   "cell_type": "code",
   "execution_count": 3,
   "id": "f4c14a5d-8606-4e2e-a1b2-0e7ddee14078",
   "metadata": {},
   "outputs": [],
   "source": [
    "# import loan dataset\n",
    "# load\n",
    "import pandas as pd\n",
    "import seaborn as sns\n",
    "import matplotlib.pyplot as plt\n",
    "import math"
   ]
  },
  {
   "cell_type": "markdown",
   "id": "e0871c2c-d7da-4faa-93aa-dc2238b7b02e",
   "metadata": {},
   "source": [
    "# Program to make predictions and determine optimal time"
   ]
  },
  {
   "cell_type": "code",
   "execution_count": 4,
   "id": "aa0ef9ed-d7c3-4ec6-ae2a-1c3ba48b1afa",
   "metadata": {},
   "outputs": [],
   "source": [
    " # Initialize Binary Encoder (same used during training of XGBoost housing model)\n",
    "import joblib"
   ]
  },
  {
   "cell_type": "markdown",
   "id": "c488d68d-e10d-43f5-b98a-106ccb03be67",
   "metadata": {},
   "source": [
    "## reverse_normalize"
   ]
  },
  {
   "cell_type": "code",
   "execution_count": 5,
   "id": "1bd972d8-c335-4736-afeb-1510572fe0b5",
   "metadata": {},
   "outputs": [],
   "source": [
    "from sklearn.preprocessing import StandardScaler\n",
    "\n",
    "def reverse_normalize(prices):\n",
    "    \n",
    "    # Initialize the StandardScaler\n",
    "    scaler = joblib.load('/scratch/network/lg6248/housing-model/scaler.pkl')\n",
    "    \n",
    "    # Fit and transform the 'Price' column\n",
    "    un_normalized_prices = scaler.inverse_transform(prices.reshape(-1, 1))\n",
    "    \n",
    "    # return the normalized 'Price' column\n",
    "    return un_normalized_prices"
   ]
  },
  {
   "cell_type": "markdown",
   "id": "272d2db3-e29a-4507-9396-f48649975562",
   "metadata": {},
   "source": [
    "## process_inputs"
   ]
  },
  {
   "cell_type": "code",
   "execution_count": 6,
   "id": "539483fb-e0c5-4d20-915e-2eb5fe26b7cb",
   "metadata": {},
   "outputs": [],
   "source": [
    "from category_encoders import BinaryEncoder\n",
    "\n",
    "column_order = \\\n",
    "['State_0',\n",
    " 'State_1',\n",
    " 'State_2',\n",
    " 'State_3',\n",
    " 'State_4',\n",
    " 'State_5',\n",
    " 'County_0',\n",
    " 'County_1',\n",
    " 'County_2',\n",
    " 'County_3',\n",
    " 'County_4',\n",
    " 'County_5',\n",
    " 'County_6',\n",
    " 'County_7',\n",
    " 'County_8',\n",
    " 'County_9',\n",
    " 'County_10',\n",
    " 'Bedrooms',\n",
    " 'Year',\n",
    " 'Month']\n",
    "\n",
    "def process_inputs(housing_features, loan_features):\n",
    "    # Check if passed in county is in housing dataset used to train model\n",
    "    county_name = housing_features.loc[0, 'County']\n",
    "    assert county_name in housing_df['County'].values, \"Make sure to end county name with \\'County\\' and capitalize (see note 2). Given county is not included in training data of housing model.\"\n",
    "    \n",
    "    # -------- binary encoding for housing model: county, state --------\n",
    "    binary_encoder = joblib.load('/scratch/network/lg6248/housing-model/binary_encoder.pkl')\n",
    "    \n",
    "    # Encode 'County' and 'State' variables\n",
    "    categorical_cols = ['County', 'State']\n",
    "    housing_features['Price'] = np.zeros(len(housing_features))\n",
    "    housing_features['Time'] = np.zeros(len(housing_features))\n",
    "    encoded_data = binary_encoder.transform(housing_features)\n",
    "    encoded_data.drop(columns=['Price', 'Time'], inplace = True)\n",
    "    encoded_data = encoded_data.reindex(columns=column_order)\n",
    "    \n",
    "    return encoded_data"
   ]
  },
  {
   "cell_type": "code",
   "execution_count": 7,
   "id": "1194aa6f-6145-4a5b-a240-bbf0b58061c7",
   "metadata": {},
   "outputs": [],
   "source": [
    "def parse_years(input_year):\n",
    "    import re\n",
    "    # Define the regex pattern for the input format \"YYYY\"\n",
    "    pattern = r'^\\d{4}$'\n",
    "\n",
    "    # Check if the input string matches the pattern\n",
    "    assert re.match(pattern, input_year), \"Incorrect year input format! Correct format is: \\\"YYYY\\\" \"\n",
    "\n",
    "    return input_year"
   ]
  },
  {
   "cell_type": "markdown",
   "id": "ce08113d-c45b-4df3-85b0-9d896d5b8443",
   "metadata": {},
   "source": [
    "## make_estimates"
   ]
  },
  {
   "cell_type": "code",
   "execution_count": 8,
   "id": "02e2455c-3c35-4b04-9ce7-6b5ce7b61e20",
   "metadata": {},
   "outputs": [],
   "source": [
    "import numpy as np\n",
    "import pandas as pd\n",
    "\n",
    "def make_estimate(button):\n",
    "    with output:\n",
    "        clear_output()\n",
    "        \n",
    "        # ---------------------------------- Get inputs ----------------------------------\n",
    "        year = 2017\n",
    "        \n",
    "        # Get values for HOUSING\n",
    "        month = 4\n",
    "        bedrooms = housing_bedrooms_dropdown.value  \n",
    "        housing_state = housing_state_dropdown.value   \n",
    "        housing_county_name = housing_county_text.value  \n",
    "\n",
    "        print(\"\\n\")\n",
    "        \n",
    "        print(\"Bedrooms:\", bedrooms)\n",
    "        print(\"State:\", housing_state)\n",
    "        print(\"County:\", housing_county_name)\n",
    "        print(\"\\n\")\n",
    "        \n",
    "        # Get values for LOAN \n",
    "        income = loan_income__int_text.value   \n",
    "        loan_amount = loan_amount__int_text.value   \n",
    "\n",
    "        # print loan info\n",
    "        print(\"Income:\", income)\n",
    "        print(\"Loan Amount:\", loan_amount)\n",
    "\n",
    "        # ------------------------------- Create HOUSING DATAFRAME -------------------------------\n",
    "        \n",
    "        housing_data = []\n",
    "        housing_data.append({'Year': year, 'State': housing_state, 'County': housing_county_name, 'Bedrooms': bedrooms, 'Month': month})\n",
    "        housing_features = pd.DataFrame(housing_data)\n",
    "\n",
    "        # ------------------------------- Create LOAN DATAFRAME -------------------------------\n",
    "        loan_data = []\n",
    "        loan_data.append({'year': year, 'applicant_income_000s': income, 'loan_amount_000s': loan_amount})\n",
    "        loan_features = pd.DataFrame(loan_data)\n",
    "\n",
    "    \n",
    "        # ------------------------------- PROCESS DATAFRAMES -------------------------------\n",
    "        housing_features = process_inputs(housing_features, loan_features)\n",
    "        \n",
    "\n",
    "        # ------------------------------- MAKE PREDICTIONS -----------------------------------\n",
    "\n",
    "        normalized_predicted_price = housing_model.predict(housing_features.values)\n",
    "        predicted_denial_rate = loan_model.predict(loan_features.values)\n",
    "        predicted_price = reverse_normalize(normalized_predicted_price)\n",
    "        likelihood = 100 - round(predicted_denial_rate[0], 2) \n",
    "        \n",
    "        print(f\"\\nEstimated housing price = {round(predicted_price.flatten()[0], 2)}\")\n",
    "        print(f\"\\nEstimated denial rate = {round(predicted_denial_rate[0], 2)}%\")\n",
    "        print(f\"Likelihood of FHA loan approval = {likelihood}%\")"
   ]
  },
  {
   "cell_type": "markdown",
   "id": "a080baa1-eaa7-4a23-a877-f742f4b0fded",
   "metadata": {},
   "source": [
    "# Interface"
   ]
  },
  {
   "cell_type": "code",
   "execution_count": 9,
   "id": "c67f4dc9-30b2-42fc-9e4e-bf3998167167",
   "metadata": {},
   "outputs": [],
   "source": [
    "from IPython.display import display, Javascript, Markdown, clear_output\n",
    "import ipywidgets as widgets\n",
    "import joblib"
   ]
  },
  {
   "cell_type": "code",
   "execution_count": 10,
   "id": "1dbd4743-5e18-45d7-b7d7-27a26e25cf4f",
   "metadata": {},
   "outputs": [
    {
     "data": {
      "text/markdown": [
       "**Note 1:** Annual gross income and loan amount are in thousands of dollars. Example: if you mean to type $36,000 --> input 36."
      ],
      "text/plain": [
       "<IPython.core.display.Markdown object>"
      ]
     },
     "metadata": {},
     "output_type": "display_data"
    },
    {
     "data": {
      "text/markdown": [
       "**Note 2:** Make sure to capitalize the county name and end it with 'County'. For example, 'El Dorado County'."
      ],
      "text/plain": [
       "<IPython.core.display.Markdown object>"
      ]
     },
     "metadata": {},
     "output_type": "display_data"
    },
    {
     "data": {
      "text/markdown": [
       "**Housing Features**"
      ],
      "text/plain": [
       "<IPython.core.display.Markdown object>"
      ]
     },
     "metadata": {},
     "output_type": "display_data"
    },
    {
     "data": {
      "application/vnd.jupyter.widget-view+json": {
       "model_id": "4055130cd0424be880ad3cdbae9b409b",
       "version_major": 2,
       "version_minor": 0
      },
      "text/plain": [
       "VBox(children=(Dropdown(description='# Bedrooms:', options=(1, 2, 3, 4), value=1), Text(value='', description=…"
      ]
     },
     "metadata": {},
     "output_type": "display_data"
    },
    {
     "data": {
      "text/markdown": [
       "**Loan Applicant Features**"
      ],
      "text/plain": [
       "<IPython.core.display.Markdown object>"
      ]
     },
     "metadata": {},
     "output_type": "display_data"
    },
    {
     "data": {
      "application/vnd.jupyter.widget-view+json": {
       "model_id": "1c68b62220f040e1a4b0e0e89583c470",
       "version_major": 2,
       "version_minor": 0
      },
      "text/plain": [
       "VBox(children=(BoundedIntText(value=1, description='Annual Gross Income:', max=70, min=1, style=DescriptionSty…"
      ]
     },
     "metadata": {},
     "output_type": "display_data"
    },
    {
     "data": {
      "application/vnd.jupyter.widget-view+json": {
       "model_id": "56e85e9ddb2244f6939a2a5432f9b990",
       "version_major": 2,
       "version_minor": 0
      },
      "text/plain": [
       "Button(description='Submit', style=ButtonStyle())"
      ]
     },
     "metadata": {},
     "output_type": "display_data"
    },
    {
     "data": {
      "application/vnd.jupyter.widget-view+json": {
       "model_id": "944a840b5a2e4632acd76b5c8a28a864",
       "version_major": 2,
       "version_minor": 0
      },
      "text/plain": [
       "Button(description='Clear Output', style=ButtonStyle())"
      ]
     },
     "metadata": {},
     "output_type": "display_data"
    },
    {
     "data": {
      "application/vnd.jupyter.widget-view+json": {
       "model_id": "9d8204e79f2b4f9493a18707b8e16739",
       "version_major": 2,
       "version_minor": 0
      },
      "text/plain": [
       "Output()"
      ]
     },
     "metadata": {},
     "output_type": "display_data"
    }
   ],
   "source": [
    "### # ----------------------------------------- Note -----------------------------------------------------------------------\n",
    "\n",
    "note = Markdown(\"**Note 1:** Annual gross income and loan amount are in thousands of dollars. Example: if you mean to type $36,000 --> input 36.\")\n",
    "display(note)\n",
    "\n",
    "note = Markdown(\"**Note 2:** Make sure to capitalize the county name and end it with 'County'. For example, 'El Dorado County'.\")\n",
    "display(note)\n",
    "\n",
    "# ----------- Create widgets for HOUSING FEATURES --------------------------------------------------------------------------\n",
    "# housing features: Year, State, County, Bedrooms, Month\n",
    "header = Markdown(\"**Housing Features**\")\n",
    "display(header)\n",
    "# housing_month_int_text = widgets.BoundedIntText(description=\"Month:\", min=1, max=12)\n",
    "housing_bedrooms_dropdown = widgets.Dropdown(description=\"# Bedrooms:\", options=[1, 2, 3, 4])\n",
    "housing_state_dropdown = widgets.Text(description=\"State (abbreviated):\", style={'description_width': 'initial'})\n",
    "housing_county_text = widgets.Text(description=\"County Name:\", style={'description_width': 'initial'})\n",
    "\n",
    "# Create a VBox layout to contain the widgets\n",
    "housing_widget_box = widgets.VBox([\n",
    "    housing_bedrooms_dropdown,\n",
    "    housing_state_dropdown,\n",
    "    housing_county_text,\n",
    "])\n",
    "\n",
    "display(housing_widget_box)\n",
    "\n",
    "# ----------- Create widgets for LOAN FEATURES --------------------------------------------------------------------------\n",
    "# loan features: year, county_code, applicant_income_000s, loan_amount_000s.\n",
    "header = Markdown(\"**Loan Applicant Features**\")\n",
    "display(header)\n",
    "loan_income__int_text = widgets.BoundedIntText(description=\"Annual Gross Income:\", min=1, max=70, style={'description_width': 'initial'})\n",
    "loan_amount__int_text = widgets.BoundedIntText(description=\"Loan Amount:\", min=1, max=300, style={'description_width': 'initial'})\n",
    "\n",
    "# Create a VBox layout to contain the widgets\n",
    "loan_widget_box = widgets.VBox([\n",
    "    loan_income__int_text,\n",
    "    loan_amount__int_text,\n",
    "])\n",
    "\n",
    "# ------------------------- SUBMIT BUTTON AND CLEAR OUTPUT BUTTON ---------------------------------------------------\n",
    "submit_button = widgets.Button(description=\"Submit\")\n",
    "output = widgets.Output()\n",
    "submit_button.on_click(make_estimate)\n",
    "\n",
    "def clear_output_button_clicked(button):\n",
    "    with output:\n",
    "        clear_output()\n",
    "    \n",
    "clear_output_button = widgets.Button(description=\"Clear Output\")\n",
    "clear_output_button.on_click(clear_output_button_clicked)\n",
    "\n",
    "# --------------------------- DISPLAY ---------------------------------------------------------------------------------\n",
    "\n",
    "# Display the VBox layout\n",
    "display(loan_widget_box, submit_button, clear_output_button, output)"
   ]
  },
  {
   "cell_type": "code",
   "execution_count": 11,
   "id": "926eb310-1f43-457d-919e-892671ecf027",
   "metadata": {},
   "outputs": [],
   "source": [
    "# list of county and state codes: https://www2.census.gov/programs-surveys/decennial/2010/partners/pdf/FIPS_StateCounty_Code.pdf"
   ]
  },
  {
   "cell_type": "markdown",
   "id": "f97ae2c6-14f4-4e79-b084-21b7e8031731",
   "metadata": {},
   "source": [
    "# Testing"
   ]
  },
  {
   "cell_type": "raw",
   "id": "ca2ba0b7-d185-41c9-b362-ed396020c1d1",
   "metadata": {},
   "source": [
    "housing_df[housing_df['County'] == 'Silver Bow County']"
   ]
  },
  {
   "cell_type": "raw",
   "id": "f3ce8f53-5e44-443e-869b-3b5b6e198ed0",
   "metadata": {},
   "source": [
    "loan_df[(loan_df['county_code'] == 93) & (loan_df['state_code'] == 30)]"
   ]
  },
  {
   "cell_type": "raw",
   "id": "c62ef420-0950-4eaa-b8f6-53622c82fd4e",
   "metadata": {},
   "source": [
    "# # save trained housing model\n",
    "# import xgboost as xgb\n",
    "# housing_model = xgb.XGBRegressor()\n",
    "# housing_model.load_model('/scratch/network/lg6248/housing-model/xgb_housing.model_upto2022') "
   ]
  },
  {
   "cell_type": "raw",
   "id": "1a1c003f-7c66-451a-9a0d-ab159be76d15",
   "metadata": {},
   "source": [
    "def reverse_normalize(prices):\n",
    "    \n",
    "    # Initialize the StandardScaler\n",
    "    scaler = joblib.load('/scratch/network/lg6248/housing-model/scaler.pkl')\n",
    "    \n",
    "    # Fit and transform the 'Price' column\n",
    "    un_normalized_prices = scaler.inverse_transform(prices.reshape(-1, 1))\n",
    "    \n",
    "    # return the normalized 'Price' column\n",
    "    return un_normalized_prices"
   ]
  },
  {
   "cell_type": "raw",
   "id": "5ff26094-1f2a-428f-9d99-d35d8d8c8a38",
   "metadata": {},
   "source": [
    "input = [\n",
    "    {'Year': 2022, 'State': 'CA', 'County': 'El Dorado County', 'Bedrooms': 1, 'Month': 1},  \n",
    "    {'Year': 2022, 'State': 'CA', 'County': 'El Dorado County', 'Bedrooms': 2, 'Month': 1},  \n",
    "    {'Year': 2022, 'State': 'CA', 'County': 'El Dorado County', 'Bedrooms': 3, 'Month': 1},\n",
    "    {'Year': 2022, 'State': 'CA', 'County': 'El Dorado County', 'Bedrooms': 4, 'Month': 1},  \n",
    "]\n",
    "\n",
    "# input = [\n",
    "#     {'Year': 2022, 'State': 'MT', 'County': 'Silver Bow County', 'Bedrooms': 1, 'Month': 1},  \n",
    "#     {'Year': 2022, 'State': 'MT', 'County': 'Silver Bow County', 'Bedrooms': 2, 'Month': 1},  \n",
    "#     {'Year': 2022, 'State': 'MT', 'County': 'Silver Bow County', 'Bedrooms': 3, 'Month': 1},\n",
    "#     {'Year': 2022, 'State': 'MT', 'County': 'Silver Bow County', 'Bedrooms': 4, 'Month': 1},  \n",
    "# ]\n",
    "\n",
    "housing_features =  pd.DataFrame(input)\n",
    "housing_features"
   ]
  },
  {
   "cell_type": "raw",
   "id": "ce2dc01a-6a38-46e3-b958-a3d301f6a291",
   "metadata": {},
   "source": [
    "binary_encoder = joblib.load('/scratch/network/lg6248/housing-model/binary_encoder.pkl')\n",
    "    \n",
    "# Encode 'County' and 'State' variables\n",
    "categorical_cols = ['County', 'State']\n",
    "housing_features['Price'] = np.zeros(len(housing_features))\n",
    "housing_features['Time'] = np.zeros(len(housing_features))\n",
    "encoded_data = binary_encoder.transform(housing_features)\n",
    "encoded_data.drop(columns=['Price', 'Time'], inplace = True)\n",
    "encoded_data"
   ]
  },
  {
   "cell_type": "raw",
   "id": "0a3df395-1fdb-4250-9ac9-55dbec051dbc",
   "metadata": {},
   "source": [
    "predicted_prices = housing_model.predict(encoded_data.values)\n",
    "pred = reverse_normalize(predicted_prices)\n",
    "pred"
   ]
  },
  {
   "cell_type": "raw",
   "id": "07efe339-1559-4dd2-bfb1-e3374ec2c124",
   "metadata": {},
   "source": [
    "predicted_prices = housing_model.predict(encoded_data.values)\n",
    "pred = reverse_normalize(predicted_prices)\n",
    "pred"
   ]
  },
  {
   "cell_type": "markdown",
   "id": "f1009515-621e-4933-92b4-cc906c32b0c5",
   "metadata": {},
   "source": [
    "## Manual Testing"
   ]
  },
  {
   "cell_type": "raw",
   "id": "a8d748fb-ea27-4e4e-ad40-e66befbbcc16",
   "metadata": {},
   "source": [
    "# loan features: year, county_code, applicant_income_000s, loan_amount_000s.\n",
    "# housing features: Year, State, County, Bedrooms, Month\n",
    "\n",
    "# Sample data for features_housing and features_loan\n",
    "housing_input = [\n",
    "    {'Year': 2023, 'State': 'CA', 'County': 'El Dorado', 'Bedrooms': 2, 'Month': 5},  \n",
    "    {'Year': 2024, 'State': 'CA', 'County': 'El Dorado', 'Bedrooms': 2, 'Month': 5},  \n",
    "    {'Year': 2025, 'State': 'CA', 'County': 'El Dorado', 'Bedrooms': 2, 'Month': 5},  \n",
    "]\n",
    "\n",
    "loan_input = [\n",
    "    {'year': 2023, 'county_code': 017, 'applicant_income_000s': 35, 'loan_amount_000s': 500},  \n",
    "    {'year': 2024, 'county_code': 017, 'applicant_income_000s': 35, 'loan_amount_000s': 500},  \n",
    "    {'year': 2025, 'county_code': 017, 'applicant_income_000s': 35, 'loan_amount_000s': 500},  \n",
    "]\n",
    "\n",
    "# process data before passing it to model\n",
    "processed_housing_input, processed_loan_input = process_inputs(housing_input, loan_input)\n",
    "\n",
    "# Make predictions and obtain information\n",
    "predict_future(processed_housing_input, processed_loan_input)"
   ]
  }
 ],
 "metadata": {
  "kernelspec": {
   "display_name": "copy-ml-env [~/.conda/envs/copy-ml-env/]",
   "language": "python",
   "name": "conda_copy-ml-env"
  },
  "language_info": {
   "codemirror_mode": {
    "name": "ipython",
    "version": 3
   },
   "file_extension": ".py",
   "mimetype": "text/x-python",
   "name": "python",
   "nbconvert_exporter": "python",
   "pygments_lexer": "ipython3",
   "version": "3.12.2"
  }
 },
 "nbformat": 4,
 "nbformat_minor": 5
}
